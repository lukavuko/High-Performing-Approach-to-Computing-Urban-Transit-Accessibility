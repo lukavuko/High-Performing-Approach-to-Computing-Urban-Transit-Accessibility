{
 "cells": [
  {
   "cell_type": "markdown",
   "metadata": {},
   "source": [
    "### Wrangling of traffic data in Vancouver and merging to Datablocks"
   ]
  },
  {
   "cell_type": "code",
   "execution_count": 2,
   "metadata": {},
   "outputs": [],
   "source": [
    "import pandas as pd\n",
    "import numpy as np"
   ]
  },
  {
   "cell_type": "markdown",
   "metadata": {},
   "source": [
    "### Read BC traffic data"
   ]
  },
  {
   "cell_type": "code",
   "execution_count": 7,
   "metadata": {},
   "outputs": [
    {
     "name": "stdout",
     "output_type": "stream",
     "text": [
      "<class 'pandas.core.frame.DataFrame'>\n",
      "RangeIndex: 1270 entries, 0 to 1269\n",
      "Data columns (total 37 columns):\n",
      " #   Column         Non-Null Count  Dtype  \n",
      "---  ------         --------------  -----  \n",
      " 0   STAT           1270 non-null   object \n",
      " 1   Sort Order     1268 non-null   float64\n",
      " 2   UTVS           1270 non-null   float64\n",
      " 3   SiteNo         1270 non-null   object \n",
      " 4   TMP            1270 non-null   object \n",
      " 5   Route          1268 non-null   object \n",
      " 6   Description    1268 non-null   object \n",
      " 7   Direction      1268 non-null   object \n",
      " 8   LATITUDE       1270 non-null   float64\n",
      " 9   LONGITUDE      1270 non-null   float64\n",
      " 10  Segment        1268 non-null   float64\n",
      " 11  From Landmark  1268 non-null   object \n",
      " 12  To Landmark    1268 non-null   object \n",
      " 13  From           1268 non-null   float64\n",
      " 14  To             1268 non-null   float64\n",
      " 15  1994           554 non-null    float64\n",
      " 16  1995           788 non-null    float64\n",
      " 17  1996           502 non-null    float64\n",
      " 18  1997           498 non-null    float64\n",
      " 19  1998           702 non-null    float64\n",
      " 20  1999           696 non-null    float64\n",
      " 21  2000           652 non-null    float64\n",
      " 22  2001           652 non-null    float64\n",
      " 23  2002           376 non-null    float64\n",
      " 24  2003           421 non-null    float64\n",
      " 25  2004           196 non-null    float64\n",
      " 26  2005           772 non-null    float64\n",
      " 27  2006           523 non-null    float64\n",
      " 28  2007           640 non-null    float64\n",
      " 29  2008           424 non-null    float64\n",
      " 30  2009           480 non-null    float64\n",
      " 31  2010           338 non-null    float64\n",
      " 32  2011           346 non-null    float64\n",
      " 33  2012           627 non-null    float64\n",
      " 34  2013           494 non-null    float64\n",
      " 35  2014           379 non-null    float64\n",
      " 36  2015           529 non-null    float64\n",
      "dtypes: float64(29), object(8)\n",
      "memory usage: 367.2+ KB\n"
     ]
    }
   ],
   "source": [
    "path = '../../data/1_raw/'\n",
    "\n",
    "traffic_BC = pd.read_csv(path + 'traffic_data/BC_traffic_data_2015_summary.csv')\n",
    "\n",
    "traffic_BC.info()"
   ]
  },
  {
   "cell_type": "markdown",
   "metadata": {},
   "source": [
    "### Only include longtitude, longitude, and newest frequency"
   ]
  },
  {
   "cell_type": "code",
   "execution_count": 9,
   "metadata": {},
   "outputs": [
    {
     "data": {
      "text/html": [
       "<div>\n",
       "<style scoped>\n",
       "    .dataframe tbody tr th:only-of-type {\n",
       "        vertical-align: middle;\n",
       "    }\n",
       "\n",
       "    .dataframe tbody tr th {\n",
       "        vertical-align: top;\n",
       "    }\n",
       "\n",
       "    .dataframe thead th {\n",
       "        text-align: right;\n",
       "    }\n",
       "</style>\n",
       "<table border=\"1\" class=\"dataframe\">\n",
       "  <thead>\n",
       "    <tr style=\"text-align: right;\">\n",
       "      <th></th>\n",
       "      <th>LATITUDE</th>\n",
       "      <th>LONGITUDE</th>\n",
       "      <th>2015</th>\n",
       "    </tr>\n",
       "  </thead>\n",
       "  <tbody>\n",
       "    <tr>\n",
       "      <th>0</th>\n",
       "      <td>48.45658</td>\n",
       "      <td>-123.3835</td>\n",
       "      <td>21640.0</td>\n",
       "    </tr>\n",
       "    <tr>\n",
       "      <th>1</th>\n",
       "      <td>48.45658</td>\n",
       "      <td>-123.3835</td>\n",
       "      <td>20713.0</td>\n",
       "    </tr>\n",
       "    <tr>\n",
       "      <th>2</th>\n",
       "      <td>48.46267</td>\n",
       "      <td>-123.4419</td>\n",
       "      <td>41641.0</td>\n",
       "    </tr>\n",
       "    <tr>\n",
       "      <th>3</th>\n",
       "      <td>48.46267</td>\n",
       "      <td>-123.4419</td>\n",
       "      <td>41675.0</td>\n",
       "    </tr>\n",
       "    <tr>\n",
       "      <th>4</th>\n",
       "      <td>48.46459</td>\n",
       "      <td>-123.4759</td>\n",
       "      <td>33017.0</td>\n",
       "    </tr>\n",
       "    <tr>\n",
       "      <th>...</th>\n",
       "      <td>...</td>\n",
       "      <td>...</td>\n",
       "      <td>...</td>\n",
       "    </tr>\n",
       "    <tr>\n",
       "      <th>1265</th>\n",
       "      <td>54.51048</td>\n",
       "      <td>-126.2991</td>\n",
       "      <td>NaN</td>\n",
       "    </tr>\n",
       "    <tr>\n",
       "      <th>1266</th>\n",
       "      <td>49.02041</td>\n",
       "      <td>-118.2184</td>\n",
       "      <td>1365.0</td>\n",
       "    </tr>\n",
       "    <tr>\n",
       "      <th>1267</th>\n",
       "      <td>49.66843</td>\n",
       "      <td>-124.9891</td>\n",
       "      <td>15366.0</td>\n",
       "    </tr>\n",
       "    <tr>\n",
       "      <th>1268</th>\n",
       "      <td>49.95846</td>\n",
       "      <td>-125.2524</td>\n",
       "      <td>4977.0</td>\n",
       "    </tr>\n",
       "    <tr>\n",
       "      <th>1269</th>\n",
       "      <td>55.20543</td>\n",
       "      <td>-129.1434</td>\n",
       "      <td>NaN</td>\n",
       "    </tr>\n",
       "  </tbody>\n",
       "</table>\n",
       "<p>1270 rows × 3 columns</p>\n",
       "</div>"
      ],
      "text/plain": [
       "      LATITUDE  LONGITUDE     2015\n",
       "0     48.45658  -123.3835  21640.0\n",
       "1     48.45658  -123.3835  20713.0\n",
       "2     48.46267  -123.4419  41641.0\n",
       "3     48.46267  -123.4419  41675.0\n",
       "4     48.46459  -123.4759  33017.0\n",
       "...        ...        ...      ...\n",
       "1265  54.51048  -126.2991      NaN\n",
       "1266  49.02041  -118.2184   1365.0\n",
       "1267  49.66843  -124.9891  15366.0\n",
       "1268  49.95846  -125.2524   4977.0\n",
       "1269  55.20543  -129.1434      NaN\n",
       "\n",
       "[1270 rows x 3 columns]"
      ]
     },
     "execution_count": 9,
     "metadata": {},
     "output_type": "execute_result"
    }
   ],
   "source": [
    "traffic_BC = traffic_BC[['LATITUDE','LONGITUDE','2015']]\n",
    "#traffic_BC.to_csv('../../data/clean/tra.csv', index=False)"
   ]
  },
  {
   "cell_type": "markdown",
   "metadata": {},
   "source": [
    "### Read Vancouver dissemination block data"
   ]
  },
  {
   "cell_type": "code",
   "execution_count": 8,
   "metadata": {},
   "outputs": [],
   "source": [
    "DBsVan.to_csv('../../data/clean/vancouver_db.csv', index=False)"
   ]
  },
  {
   "cell_type": "code",
   "execution_count": null,
   "metadata": {},
   "outputs": [],
   "source": [
    "DBs = pd.read_csv('../../data/raw/DBs.csv')\n",
    "DBs = DBs[['DBUID','CMANAME','DBPOP','lat','lon','prox_idx_emp','prox_idx_pharma','prox_idx_childcare','prox_idx_health','prox_idx_grocery','prox_idx_educpri','prox_idx_educsec','prox_idx_lib','prox_idx_parks','prox_idx_transit']]\n",
    "DBs = DBs.rename(columns = {'DBUID':'id', 'CMANAME':'metropolitan_area', 'DBPOP':'pop','prox_idx_emp':'prox_emp','prox_idx_pharma':'prox_pharma','prox_idx_childcare':'prox_childcare','prox_idx_health':'prox_health','prox_idx_grocery':'prox_grocery','prox_idx_educpri':'prox_educpri','prox_idx_educsec':'prox_educsec','prox_idx_lib':'prox_lib','prox_idx_parks':'prox_parks','prox_idx_transit':'prox_transit'})\n",
    "\n",
    "DBs\n"
   ]
  },
  {
   "cell_type": "code",
   "execution_count": null,
   "metadata": {},
   "outputs": [],
   "source": [
    "DBsVan = DBs[DBs['metropolitan_area'] == 'Vancouver']\n",
    "DBsProx  = DBsVan.drop(columns=['metropolitan_area','lat','lon','pop'])\n",
    "DBsVan = DBsVan.drop(columns=['metropolitan_area','prox_emp','prox_pharma','prox_childcare','prox_health','prox_grocery','prox_educpri','prox_educsec','prox_lib','prox_parks','prox_transit'])\n",
    "\n",
    "DBsVan"
   ]
  }
 ],
 "metadata": {
  "interpreter": {
   "hash": "b49af92716124a3dcdffffc9745ca4adb6a99ad9a5084f8f6ea1cee1a8d52ff7"
  },
  "kernelspec": {
   "display_name": "Python 3",
   "language": "python",
   "name": "python3"
  },
  "language_info": {
   "codemirror_mode": {
    "name": "ipython",
    "version": 3
   },
   "file_extension": ".py",
   "mimetype": "text/x-python",
   "name": "python",
   "nbconvert_exporter": "python",
   "pygments_lexer": "ipython3",
   "version": "3.8.10"
  },
  "widgets": {
   "application/vnd.jupyter.widget-state+json": {
    "state": {},
    "version_major": 2,
    "version_minor": 0
   }
  }
 },
 "nbformat": 4,
 "nbformat_minor": 4
}
